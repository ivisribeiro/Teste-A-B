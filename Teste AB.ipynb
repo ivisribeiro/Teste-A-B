{
 "cells": [
  {
   "cell_type": "markdown",
   "metadata": {},
   "source": [
    "\n",
    "# <font color='gray'>Projeto 2 - Teste A/B</font>\n",
    "## <font color='gray'>Páginas com Avaliações de Usuários Aumentam as Vendas de Produtos Online?</font>"
   ]
  },
  {
   "cell_type": "markdown",
   "metadata": {},
   "source": [
    "## Marketing Analytics\n",
    "\n",
    "Marketing Analytics compreende os processos e tecnologias que permitem aos profissionais de Marketing avaliar o sucesso de suas iniciativas. \n",
    "\n",
    "Isso é feito medindo o desempenho das campanhas de Marketing, coletando os dados e analisando os resultados. Marketing Analytics utiliza métricas importantes de negócios, como ROI (Retorno Sobre o Investimento), Atribuição de Marketing e Eficácia Geral do Marketing. Em outras palavras, o Marketing Analytics mostra se os programas de Marketing estão sendo efetivos ou não.\n",
    "\n",
    "Marketing Analytics reúne dados de todos os canais de marketing e os consolida em uma visão de marketing comum. A partir dessa visão comum, você pode extrair resultados analíticos que podem fornecer assistência inestimável para impulsionar os esforços de marketing."
   ]
  },
  {
   "cell_type": "markdown",
   "metadata": {},
   "source": [
    "## O Que São Testes A/B?\n",
    "\n",
    "Leia o manual em pdf no Capítulo 5 do curso, com a definição completa.\n",
    "\n",
    "As análises de Testes A/B são comumente realizadas por Analistas e Cientistas de dados. \n",
    "\n",
    "Para este projeto vamos compreender os resultados de um Teste A/B executado por um site de e-commerce. Sua meta é ajudar a empresa a entender se as avaliações de usuários (reviews) fazem ou não diferença para o usuário efetuar uma compra no portal.\n",
    "\n",
    "Os dados são fictícios, mas representam valores válidos para esse tipo de trabalho."
   ]
  },
  {
   "cell_type": "markdown",
   "metadata": {},
   "source": [
    "## Como Analisar Testes A/B?\n",
    "\n",
    "Em geral, realizamos esses 5 passos para analisar um Teste A/B:\n",
    "\n",
    "1. Configuramos o experimento.\n",
    "\n",
    "2. Executamos o teste de hipóteses e registramos a taxa de sucesso de cada grupo.\n",
    "\n",
    "3. Criamos o Plot da distribuição da diferença entre as duas amostras.\n",
    "\n",
    "4. Calculamos o poder estatístico.\n",
    "\n",
    "5. Avaliamos como o tamanho das amostras afeta os Testes A/B.\n",
    "\n",
    "Vamos ao trabalho."
   ]
  },
  {
   "cell_type": "markdown",
   "metadata": {},
   "source": [
    "## Carregando o Conjunto de Dados"
   ]
  },
  {
   "cell_type": "code",
   "execution_count": 3,
   "metadata": {},
   "outputs": [],
   "source": [
    "# Imports\n",
    "import datetime\n",
    "import matplotlib\n",
    "import numpy as np\n",
    "import pandas as pd\n",
    "import matplotlib.pyplot as plt\n",
    "import scipy.stats as scs\n",
    "\n",
    "# Formatação dos gráficos\n",
    "plt.style.use('fivethirtyeight')\n",
    "plt.figure(1 , figsize = (15 , 6))\n",
    "%matplotlib inline"
   ]
  },
  {
   "cell_type": "code",
   "execution_count": 4,
   "metadata": {},
   "outputs": [
    {
     "name": "stdout",
     "output_type": "stream",
     "text": [
      "matplotlib 3.3.1\n",
      "numpy      1.19.2\n",
      "pandas     1.1.3\n",
      "Data Science Academy\n"
     ]
    }
   ],
   "source": [
    "# Versões dos pacotes usados neste jupyter notebook\n",
    "%reload_ext watermark\n",
    "%watermark -a \"Data Science Academy\" --iversions"
   ]
  },
  {
   "cell_type": "markdown",
   "metadata": {},
   "source": [
    "## Carregando e Compreendendo os Dados"
   ]
  },
  {
   "cell_type": "markdown",
   "metadata": {},
   "source": [
    "Variante A: Mostra o número atual de comentários e avaliações de usuários.\n",
    "\n",
    "Variante B: Não mostra os comentários de usuários no site."
   ]
  },
  {
   "cell_type": "code",
   "execution_count": 5,
   "metadata": {},
   "outputs": [],
   "source": [
    "# Carrega o dataset\n",
    "# Usaremos dados fictícios, que representam valores que seriam possíves em um teste real\n",
    "df_vendas = pd.read_csv(\"dados/dataset.csv\")"
   ]
  },
  {
   "cell_type": "code",
   "execution_count": 6,
   "metadata": {},
   "outputs": [
    {
     "data": {
      "text/html": [
       "<div>\n",
       "<style scoped>\n",
       "    .dataframe tbody tr th:only-of-type {\n",
       "        vertical-align: middle;\n",
       "    }\n",
       "\n",
       "    .dataframe tbody tr th {\n",
       "        vertical-align: top;\n",
       "    }\n",
       "\n",
       "    .dataframe thead th {\n",
       "        text-align: right;\n",
       "    }\n",
       "</style>\n",
       "<table border=\"1\" class=\"dataframe\">\n",
       "  <thead>\n",
       "    <tr style=\"text-align: right;\">\n",
       "      <th></th>\n",
       "      <th>id</th>\n",
       "      <th>variante</th>\n",
       "      <th>compra</th>\n",
       "      <th>data</th>\n",
       "    </tr>\n",
       "  </thead>\n",
       "  <tbody>\n",
       "    <tr>\n",
       "      <th>0</th>\n",
       "      <td>0x6f9421</td>\n",
       "      <td>A</td>\n",
       "      <td>False</td>\n",
       "      <td>2019-12-26</td>\n",
       "    </tr>\n",
       "    <tr>\n",
       "      <th>1</th>\n",
       "      <td>0x59d442</td>\n",
       "      <td>A</td>\n",
       "      <td>False</td>\n",
       "      <td>2019-08-16</td>\n",
       "    </tr>\n",
       "    <tr>\n",
       "      <th>2</th>\n",
       "      <td>0x6db8f8</td>\n",
       "      <td>A</td>\n",
       "      <td>True</td>\n",
       "      <td>2019-03-18</td>\n",
       "    </tr>\n",
       "    <tr>\n",
       "      <th>3</th>\n",
       "      <td>0x68245d</td>\n",
       "      <td>A</td>\n",
       "      <td>False</td>\n",
       "      <td>2019-02-13</td>\n",
       "    </tr>\n",
       "    <tr>\n",
       "      <th>4</th>\n",
       "      <td>0x28566e</td>\n",
       "      <td>A</td>\n",
       "      <td>False</td>\n",
       "      <td>2019-09-28</td>\n",
       "    </tr>\n",
       "  </tbody>\n",
       "</table>\n",
       "</div>"
      ],
      "text/plain": [
       "         id variante  compra        data\n",
       "0  0x6f9421        A   False  2019-12-26\n",
       "1  0x59d442        A   False  2019-08-16\n",
       "2  0x6db8f8        A    True  2019-03-18\n",
       "3  0x68245d        A   False  2019-02-13\n",
       "4  0x28566e        A   False  2019-09-28"
      ]
     },
     "execution_count": 6,
     "metadata": {},
     "output_type": "execute_result"
    }
   ],
   "source": [
    "# Visualiza \n",
    "df_vendas.head()"
   ]
  },
  {
   "cell_type": "code",
   "execution_count": 7,
   "metadata": {},
   "outputs": [
    {
     "data": {
      "text/html": [
       "<div>\n",
       "<style scoped>\n",
       "    .dataframe tbody tr th:only-of-type {\n",
       "        vertical-align: middle;\n",
       "    }\n",
       "\n",
       "    .dataframe tbody tr th {\n",
       "        vertical-align: top;\n",
       "    }\n",
       "\n",
       "    .dataframe thead th {\n",
       "        text-align: right;\n",
       "    }\n",
       "</style>\n",
       "<table border=\"1\" class=\"dataframe\">\n",
       "  <thead>\n",
       "    <tr style=\"text-align: right;\">\n",
       "      <th></th>\n",
       "      <th>id</th>\n",
       "      <th>variante</th>\n",
       "      <th>compra</th>\n",
       "      <th>data</th>\n",
       "    </tr>\n",
       "  </thead>\n",
       "  <tbody>\n",
       "    <tr>\n",
       "      <th>54995</th>\n",
       "      <td>0x451451</td>\n",
       "      <td>A</td>\n",
       "      <td>False</td>\n",
       "      <td>2019-06-19</td>\n",
       "    </tr>\n",
       "    <tr>\n",
       "      <th>54996</th>\n",
       "      <td>0x871d51</td>\n",
       "      <td>A</td>\n",
       "      <td>False</td>\n",
       "      <td>2019-03-22</td>\n",
       "    </tr>\n",
       "    <tr>\n",
       "      <th>54997</th>\n",
       "      <td>0x50d163</td>\n",
       "      <td>A</td>\n",
       "      <td>False</td>\n",
       "      <td>2019-02-10</td>\n",
       "    </tr>\n",
       "    <tr>\n",
       "      <th>54998</th>\n",
       "      <td>0x3544c4</td>\n",
       "      <td>B</td>\n",
       "      <td>False</td>\n",
       "      <td>2020-01-09</td>\n",
       "    </tr>\n",
       "    <tr>\n",
       "      <th>54999</th>\n",
       "      <td>0x983331</td>\n",
       "      <td>A</td>\n",
       "      <td>False</td>\n",
       "      <td>2019-09-05</td>\n",
       "    </tr>\n",
       "  </tbody>\n",
       "</table>\n",
       "</div>"
      ],
      "text/plain": [
       "             id variante  compra        data\n",
       "54995  0x451451        A   False  2019-06-19\n",
       "54996  0x871d51        A   False  2019-03-22\n",
       "54997  0x50d163        A   False  2019-02-10\n",
       "54998  0x3544c4        B   False  2020-01-09\n",
       "54999  0x983331        A   False  2019-09-05"
      ]
     },
     "execution_count": 7,
     "metadata": {},
     "output_type": "execute_result"
    }
   ],
   "source": [
    "# Visualiza \n",
    "df_vendas.tail()"
   ]
  },
  {
   "cell_type": "markdown",
   "metadata": {},
   "source": [
    "## Análise Exploratória e Cálculo de Probabilidade"
   ]
  },
  {
   "cell_type": "code",
   "execution_count": 8,
   "metadata": {},
   "outputs": [
    {
     "data": {
      "text/plain": [
       "(55000, 4)"
      ]
     },
     "execution_count": 8,
     "metadata": {},
     "output_type": "execute_result"
    }
   ],
   "source": [
    "# Shape dos dados\n",
    "df_vendas.shape"
   ]
  },
  {
   "cell_type": "code",
   "execution_count": 9,
   "metadata": {},
   "outputs": [
    {
     "data": {
      "text/plain": [
       "id          object\n",
       "variante    object\n",
       "compra        bool\n",
       "data        object\n",
       "dtype: object"
      ]
     },
     "execution_count": 9,
     "metadata": {},
     "output_type": "execute_result"
    }
   ],
   "source": [
    "# Tipos de dados\n",
    "df_vendas.dtypes"
   ]
  },
  {
   "cell_type": "code",
   "execution_count": 10,
   "metadata": {},
   "outputs": [
    {
     "data": {
      "text/plain": [
       "'2020-01-30'"
      ]
     },
     "execution_count": 10,
     "metadata": {},
     "output_type": "execute_result"
    }
   ],
   "source": [
    "# Data máxima\n",
    "df_vendas['data'].max()"
   ]
  },
  {
   "cell_type": "code",
   "execution_count": 11,
   "metadata": {},
   "outputs": [
    {
     "data": {
      "text/plain": [
       "'2019-01-01'"
      ]
     },
     "execution_count": 11,
     "metadata": {},
     "output_type": "execute_result"
    }
   ],
   "source": [
    "# Data mínima\n",
    "df_vendas['data'].min()"
   ]
  },
  {
   "cell_type": "code",
   "execution_count": 12,
   "metadata": {},
   "outputs": [
    {
     "data": {
      "text/plain": [
       "id          0\n",
       "variante    0\n",
       "compra      0\n",
       "data        0\n",
       "dtype: int64"
      ]
     },
     "execution_count": 12,
     "metadata": {},
     "output_type": "execute_result"
    }
   ],
   "source": [
    "# Checamos por valores nulos\n",
    "df_vendas.isnull().sum()"
   ]
  },
  {
   "cell_type": "code",
   "execution_count": 13,
   "metadata": {},
   "outputs": [
    {
     "data": {
      "text/plain": [
       "55000"
      ]
     },
     "execution_count": 13,
     "metadata": {},
     "output_type": "execute_result"
    }
   ],
   "source": [
    "# Checamos se temos IDs duplicados\n",
    "df_vendas.id.value_counts().count()"
   ]
  },
  {
   "cell_type": "code",
   "execution_count": 14,
   "metadata": {},
   "outputs": [
    {
     "data": {
      "text/plain": [
       "False    46416\n",
       "True      8584\n",
       "Name: compra, dtype: int64"
      ]
     },
     "execution_count": 14,
     "metadata": {},
     "output_type": "execute_result"
    }
   ],
   "source": [
    "# Proporção do resultado de conversão\n",
    "df_vendas.compra.value_counts()"
   ]
  },
  {
   "cell_type": "code",
   "execution_count": 15,
   "metadata": {},
   "outputs": [
    {
     "data": {
      "text/plain": [
       "A    50000\n",
       "B     5000\n",
       "Name: variante, dtype: int64"
      ]
     },
     "execution_count": 15,
     "metadata": {},
     "output_type": "execute_result"
    }
   ],
   "source": [
    "# Proporção das variantes mostradas aos usuários\n",
    "df_vendas.variante.value_counts()"
   ]
  },
  {
   "cell_type": "markdown",
   "metadata": {},
   "source": [
    "Calculando probabilidades básicas."
   ]
  },
  {
   "cell_type": "markdown",
   "metadata": {},
   "source": [
    "**Variante A é o grupo de controle. Variante B é o grupo de teste ou tratamento.**"
   ]
  },
  {
   "cell_type": "code",
   "execution_count": 16,
   "metadata": {},
   "outputs": [
    {
     "data": {
      "text/plain": [
       "90.9090909090909"
      ]
     },
     "execution_count": 16,
     "metadata": {},
     "output_type": "execute_result"
    }
   ],
   "source": [
    "# Probabilidade de um usuário visualizar a variante A\n",
    "df_vendas[df_vendas.variante == 'A'].shape[0] / df_vendas.shape[0] * 100"
   ]
  },
  {
   "cell_type": "code",
   "execution_count": 17,
   "metadata": {},
   "outputs": [
    {
     "data": {
      "text/plain": [
       "100.0"
      ]
     },
     "execution_count": 17,
     "metadata": {},
     "output_type": "execute_result"
    }
   ],
   "source": [
    "# Probabilidade de um usuário visualizar qualquer variante\n",
    "df_vendas.shape[0] / df_vendas.shape[0] * 100"
   ]
  },
  {
   "cell_type": "code",
   "execution_count": 18,
   "metadata": {},
   "outputs": [
    {
     "data": {
      "text/plain": [
       "9.090909090909092"
      ]
     },
     "execution_count": 18,
     "metadata": {},
     "output_type": "execute_result"
    }
   ],
   "source": [
    "# Probabilidade de um usuário visualizar a variante B\n",
    "df_vendas[df_vendas.variante == 'B'].shape[0] / df_vendas.shape[0] * 100"
   ]
  },
  {
   "cell_type": "code",
   "execution_count": 19,
   "metadata": {},
   "outputs": [
    {
     "data": {
      "text/plain": [
       "8584"
      ]
     },
     "execution_count": 19,
     "metadata": {},
     "output_type": "execute_result"
    }
   ],
   "source": [
    "# Total de compras realizadas (conversões)\n",
    "df_vendas.compra.sum()"
   ]
  },
  {
   "cell_type": "code",
   "execution_count": 20,
   "metadata": {},
   "outputs": [
    {
     "data": {
      "text/plain": [
       "7603"
      ]
     },
     "execution_count": 20,
     "metadata": {},
     "output_type": "execute_result"
    }
   ],
   "source": [
    "# Total de compras realizadas quando a variante era A\n",
    "df_vendas[df_vendas.variante == 'A'].compra.sum()"
   ]
  },
  {
   "cell_type": "code",
   "execution_count": 21,
   "metadata": {},
   "outputs": [
    {
     "data": {
      "text/plain": [
       "981"
      ]
     },
     "execution_count": 21,
     "metadata": {},
     "output_type": "execute_result"
    }
   ],
   "source": [
    "# Total de compras realizadas quando a variante era B\n",
    "df_vendas[df_vendas.variante == 'B'].compra.sum()"
   ]
  },
  {
   "cell_type": "code",
   "execution_count": 22,
   "metadata": {},
   "outputs": [
    {
     "data": {
      "text/plain": [
       "0.15607272727272728"
      ]
     },
     "execution_count": 22,
     "metadata": {},
     "output_type": "execute_result"
    }
   ],
   "source": [
    "# Probabilidade de conversão independente da variante recebida\n",
    "df_vendas.compra.mean()"
   ]
  },
  {
   "cell_type": "code",
   "execution_count": 23,
   "metadata": {},
   "outputs": [
    {
     "data": {
      "text/plain": [
       "0.15206"
      ]
     },
     "execution_count": 23,
     "metadata": {},
     "output_type": "execute_result"
    }
   ],
   "source": [
    "# Dado que um indivíduo estava no grupo de controle, qual é a probabilidade de conversão?\n",
    "df_vendas[df_vendas.variante == 'A'].compra.mean()"
   ]
  },
  {
   "cell_type": "code",
   "execution_count": 24,
   "metadata": {},
   "outputs": [
    {
     "data": {
      "text/plain": [
       "0.1962"
      ]
     },
     "execution_count": 24,
     "metadata": {},
     "output_type": "execute_result"
    }
   ],
   "source": [
    "# Dado que um indivíduo estava no grupo de tratamento, qual é a probabilidade de conversão?\n",
    "df_vendas[df_vendas.variante == 'B'].compra.mean()"
   ]
  },
  {
   "cell_type": "markdown",
   "metadata": {},
   "source": [
    "Como vemos, a probabilidade de receber a nova página é de aproximadamente 10% e a probabilidade total de conversão é de 19%. Precisamos checar se temos evidências suficientes para dizer que o grupo de tratamento leva a um aumento das conversões."
   ]
  },
  {
   "cell_type": "markdown",
   "metadata": {},
   "source": [
    "## Tarefa 1 - Configurando o Experimento\n",
    "\n",
    "Páginas com Avaliações de Usuários Aumentam as Vendas de Produtos Online?\n",
    "\n",
    "Variante A: Mostra o número atual de comentários e avaliações de usuários\n",
    "\n",
    "Variante B: Não mostra os comentários de usuários no site\n",
    "\n",
    "Observe que, devido ao registro de data e hora associado a cada evento, você pode tecnicamente executar um teste de hipótese continuamente à medida que cada evento é observado.\n",
    "\n",
    "No entanto, a questão difícil é saber quando parar assim que uma variante for considerada significativamente melhor do que outra ou isso precisa acontecer de forma consistente por um determinado período de tempo? Quanto tempo até você decidir que nenhuma variante é melhor que a outra? Converse com a área de negócio para definir a melhor abordagem para o teste e apresentaremos algumas dicas durante este trabalho.\n",
    "\n",
    "Essas questões são as partes mais difíceis associadas aos Testes A/B e a análise em geral.\n",
    "\n",
    "Por enquanto, considere que você precisa tomar uma decisão apenas com base nos dados fornecidos. Se você quiser assumir que a variante A é melhor, a menos que a nova variante prove ser definitivamente melhor em uma taxa de erro Tipo I de 5%, quais deveriam ser suas hipóteses nula e alternativa? \n",
    "\n",
    "Você pode definir suas hipóteses em termos de palavras ou em notação como $p_{A}$ e $p_{B}$, que são as probabilidades de conversão para as variantes nova e antiga.\n",
    "\n",
    "- H0: PB - PA = 0\n",
    "- H1: PB - PA > 0\n",
    "\n",
    "H0 nos diz que a diferença de probabilidade dos dois grupos é igual a zero.\n",
    "\n",
    "H1 nos diz que a diferença de probabilidade dos dois grupos é maior do que zero."
   ]
  },
  {
   "cell_type": "markdown",
   "metadata": {},
   "source": [
    "### Pré-Processamento dos Dados\n",
    "\n",
    "Faremos alguns cálculos pesados e para simplificar o processo, iremos filtrar os dados e usar apenas um dos meses. Fique à vontade para usar dados de períodos maiores."
   ]
  },
  {
   "cell_type": "code",
   "execution_count": 25,
   "metadata": {},
   "outputs": [],
   "source": [
    "# Função para extrair ano e mês da data\n",
    "def extrai_data(x):\n",
    "    return x[:7]"
   ]
  },
  {
   "cell_type": "code",
   "execution_count": 26,
   "metadata": {},
   "outputs": [],
   "source": [
    "# Extrai ano e mês da coluna de data\n",
    "df_vendas['ano_mes'] = df_vendas['data'].apply(extrai_data)"
   ]
  },
  {
   "cell_type": "code",
   "execution_count": 27,
   "metadata": {},
   "outputs": [
    {
     "data": {
      "text/html": [
       "<div>\n",
       "<style scoped>\n",
       "    .dataframe tbody tr th:only-of-type {\n",
       "        vertical-align: middle;\n",
       "    }\n",
       "\n",
       "    .dataframe tbody tr th {\n",
       "        vertical-align: top;\n",
       "    }\n",
       "\n",
       "    .dataframe thead th {\n",
       "        text-align: right;\n",
       "    }\n",
       "</style>\n",
       "<table border=\"1\" class=\"dataframe\">\n",
       "  <thead>\n",
       "    <tr style=\"text-align: right;\">\n",
       "      <th></th>\n",
       "      <th>id</th>\n",
       "      <th>variante</th>\n",
       "      <th>compra</th>\n",
       "      <th>data</th>\n",
       "      <th>ano_mes</th>\n",
       "    </tr>\n",
       "  </thead>\n",
       "  <tbody>\n",
       "    <tr>\n",
       "      <th>0</th>\n",
       "      <td>0x6f9421</td>\n",
       "      <td>A</td>\n",
       "      <td>False</td>\n",
       "      <td>2019-12-26</td>\n",
       "      <td>2019-12</td>\n",
       "    </tr>\n",
       "    <tr>\n",
       "      <th>1</th>\n",
       "      <td>0x59d442</td>\n",
       "      <td>A</td>\n",
       "      <td>False</td>\n",
       "      <td>2019-08-16</td>\n",
       "      <td>2019-08</td>\n",
       "    </tr>\n",
       "    <tr>\n",
       "      <th>2</th>\n",
       "      <td>0x6db8f8</td>\n",
       "      <td>A</td>\n",
       "      <td>True</td>\n",
       "      <td>2019-03-18</td>\n",
       "      <td>2019-03</td>\n",
       "    </tr>\n",
       "    <tr>\n",
       "      <th>3</th>\n",
       "      <td>0x68245d</td>\n",
       "      <td>A</td>\n",
       "      <td>False</td>\n",
       "      <td>2019-02-13</td>\n",
       "      <td>2019-02</td>\n",
       "    </tr>\n",
       "    <tr>\n",
       "      <th>4</th>\n",
       "      <td>0x28566e</td>\n",
       "      <td>A</td>\n",
       "      <td>False</td>\n",
       "      <td>2019-09-28</td>\n",
       "      <td>2019-09</td>\n",
       "    </tr>\n",
       "  </tbody>\n",
       "</table>\n",
       "</div>"
      ],
      "text/plain": [
       "         id variante  compra        data  ano_mes\n",
       "0  0x6f9421        A   False  2019-12-26  2019-12\n",
       "1  0x59d442        A   False  2019-08-16  2019-08\n",
       "2  0x6db8f8        A    True  2019-03-18  2019-03\n",
       "3  0x68245d        A   False  2019-02-13  2019-02\n",
       "4  0x28566e        A   False  2019-09-28  2019-09"
      ]
     },
     "execution_count": 27,
     "metadata": {},
     "output_type": "execute_result"
    }
   ],
   "source": [
    "# Visualiza\n",
    "df_vendas.head()"
   ]
  },
  {
   "cell_type": "code",
   "execution_count": 28,
   "metadata": {},
   "outputs": [],
   "source": [
    "# Vamos trabalhar apenas com os dados de Janeiro/2020 para simplificar o processo didaticamente\n",
    "df_vendas_2020 = df_vendas[df_vendas['ano_mes'] == '2020-01']"
   ]
  },
  {
   "cell_type": "code",
   "execution_count": 29,
   "metadata": {},
   "outputs": [
    {
     "data": {
      "text/html": [
       "<div>\n",
       "<style scoped>\n",
       "    .dataframe tbody tr th:only-of-type {\n",
       "        vertical-align: middle;\n",
       "    }\n",
       "\n",
       "    .dataframe tbody tr th {\n",
       "        vertical-align: top;\n",
       "    }\n",
       "\n",
       "    .dataframe thead th {\n",
       "        text-align: right;\n",
       "    }\n",
       "</style>\n",
       "<table border=\"1\" class=\"dataframe\">\n",
       "  <thead>\n",
       "    <tr style=\"text-align: right;\">\n",
       "      <th></th>\n",
       "      <th>id</th>\n",
       "      <th>variante</th>\n",
       "      <th>compra</th>\n",
       "      <th>data</th>\n",
       "      <th>ano_mes</th>\n",
       "    </tr>\n",
       "  </thead>\n",
       "  <tbody>\n",
       "    <tr>\n",
       "      <th>5</th>\n",
       "      <td>0x792f1d</td>\n",
       "      <td>A</td>\n",
       "      <td>False</td>\n",
       "      <td>2020-01-14</td>\n",
       "      <td>2020-01</td>\n",
       "    </tr>\n",
       "    <tr>\n",
       "      <th>7</th>\n",
       "      <td>0x724b78</td>\n",
       "      <td>B</td>\n",
       "      <td>False</td>\n",
       "      <td>2020-01-23</td>\n",
       "      <td>2020-01</td>\n",
       "    </tr>\n",
       "    <tr>\n",
       "      <th>9</th>\n",
       "      <td>0x684bf9</td>\n",
       "      <td>A</td>\n",
       "      <td>False</td>\n",
       "      <td>2020-01-17</td>\n",
       "      <td>2020-01</td>\n",
       "    </tr>\n",
       "    <tr>\n",
       "      <th>10</th>\n",
       "      <td>0x6394dc</td>\n",
       "      <td>A</td>\n",
       "      <td>False</td>\n",
       "      <td>2020-01-06</td>\n",
       "      <td>2020-01</td>\n",
       "    </tr>\n",
       "    <tr>\n",
       "      <th>11</th>\n",
       "      <td>0x625f5d</td>\n",
       "      <td>A</td>\n",
       "      <td>False</td>\n",
       "      <td>2020-01-05</td>\n",
       "      <td>2020-01</td>\n",
       "    </tr>\n",
       "  </tbody>\n",
       "</table>\n",
       "</div>"
      ],
      "text/plain": [
       "          id variante  compra        data  ano_mes\n",
       "5   0x792f1d        A   False  2020-01-14  2020-01\n",
       "7   0x724b78        B   False  2020-01-23  2020-01\n",
       "9   0x684bf9        A   False  2020-01-17  2020-01\n",
       "10  0x6394dc        A   False  2020-01-06  2020-01\n",
       "11  0x625f5d        A   False  2020-01-05  2020-01"
      ]
     },
     "execution_count": 29,
     "metadata": {},
     "output_type": "execute_result"
    }
   ],
   "source": [
    "# Visualiza\n",
    "df_vendas_2020.head()"
   ]
  },
  {
   "cell_type": "code",
   "execution_count": 30,
   "metadata": {},
   "outputs": [
    {
     "data": {
      "text/plain": [
       "(8821, 5)"
      ]
     },
     "execution_count": 30,
     "metadata": {},
     "output_type": "execute_result"
    }
   ],
   "source": [
    "# shape\n",
    "df_vendas_2020.shape"
   ]
  },
  {
   "cell_type": "markdown",
   "metadata": {},
   "source": [
    "### Criação do Baseline\n",
    "\n",
    "Vamos criar um baseline (linha base) da taxa de conversão antes de executar o teste de hipótese. Assim, saberemos a taxa de conversão base e o aumento desejado em compras que gostaríamos de testar.\n",
    "\n",
    "* A será o grupo de controle \n",
    "* B será o grupo de teste"
   ]
  },
  {
   "cell_type": "code",
   "execution_count": 31,
   "metadata": {},
   "outputs": [
    {
     "data": {
      "text/html": [
       "<div>\n",
       "<style scoped>\n",
       "    .dataframe tbody tr th:only-of-type {\n",
       "        vertical-align: middle;\n",
       "    }\n",
       "\n",
       "    .dataframe tbody tr th {\n",
       "        vertical-align: top;\n",
       "    }\n",
       "\n",
       "    .dataframe thead th {\n",
       "        text-align: right;\n",
       "    }\n",
       "</style>\n",
       "<table border=\"1\" class=\"dataframe\">\n",
       "  <thead>\n",
       "    <tr style=\"text-align: right;\">\n",
       "      <th></th>\n",
       "      <th>variante</th>\n",
       "      <th>compra</th>\n",
       "    </tr>\n",
       "  </thead>\n",
       "  <tbody>\n",
       "    <tr>\n",
       "      <th>5</th>\n",
       "      <td>A</td>\n",
       "      <td>False</td>\n",
       "    </tr>\n",
       "    <tr>\n",
       "      <th>7</th>\n",
       "      <td>B</td>\n",
       "      <td>False</td>\n",
       "    </tr>\n",
       "    <tr>\n",
       "      <th>9</th>\n",
       "      <td>A</td>\n",
       "      <td>False</td>\n",
       "    </tr>\n",
       "    <tr>\n",
       "      <th>10</th>\n",
       "      <td>A</td>\n",
       "      <td>False</td>\n",
       "    </tr>\n",
       "    <tr>\n",
       "      <th>11</th>\n",
       "      <td>A</td>\n",
       "      <td>False</td>\n",
       "    </tr>\n",
       "  </tbody>\n",
       "</table>\n",
       "</div>"
      ],
      "text/plain": [
       "   variante  compra\n",
       "5         A   False\n",
       "7         B   False\n",
       "9         A   False\n",
       "10        A   False\n",
       "11        A   False"
      ]
     },
     "execution_count": 31,
     "metadata": {},
     "output_type": "execute_result"
    }
   ],
   "source": [
    "# Geramos um dataframe\n",
    "df_ab_data = df_vendas_2020[['variante', 'compra']]\n",
    "df_ab_data.head()"
   ]
  },
  {
   "cell_type": "code",
   "execution_count": 32,
   "metadata": {},
   "outputs": [
    {
     "data": {
      "text/plain": [
       "(8821, 2)"
      ]
     },
     "execution_count": 32,
     "metadata": {},
     "output_type": "execute_result"
    }
   ],
   "source": [
    "# Shape\n",
    "df_ab_data.shape"
   ]
  },
  {
   "cell_type": "code",
   "execution_count": 33,
   "metadata": {},
   "outputs": [],
   "source": [
    "# Altera o nome das colunas\n",
    "df_ab_data.columns = ['grupo', 'conversao']"
   ]
  },
  {
   "cell_type": "code",
   "execution_count": 34,
   "metadata": {},
   "outputs": [
    {
     "data": {
      "text/html": [
       "<div>\n",
       "<style scoped>\n",
       "    .dataframe tbody tr th:only-of-type {\n",
       "        vertical-align: middle;\n",
       "    }\n",
       "\n",
       "    .dataframe tbody tr th {\n",
       "        vertical-align: top;\n",
       "    }\n",
       "\n",
       "    .dataframe thead th {\n",
       "        text-align: right;\n",
       "    }\n",
       "</style>\n",
       "<table border=\"1\" class=\"dataframe\">\n",
       "  <thead>\n",
       "    <tr style=\"text-align: right;\">\n",
       "      <th></th>\n",
       "      <th>grupo</th>\n",
       "      <th>conversao</th>\n",
       "    </tr>\n",
       "  </thead>\n",
       "  <tbody>\n",
       "    <tr>\n",
       "      <th>5</th>\n",
       "      <td>A</td>\n",
       "      <td>False</td>\n",
       "    </tr>\n",
       "    <tr>\n",
       "      <th>7</th>\n",
       "      <td>B</td>\n",
       "      <td>False</td>\n",
       "    </tr>\n",
       "    <tr>\n",
       "      <th>9</th>\n",
       "      <td>A</td>\n",
       "      <td>False</td>\n",
       "    </tr>\n",
       "    <tr>\n",
       "      <th>10</th>\n",
       "      <td>A</td>\n",
       "      <td>False</td>\n",
       "    </tr>\n",
       "    <tr>\n",
       "      <th>11</th>\n",
       "      <td>A</td>\n",
       "      <td>False</td>\n",
       "    </tr>\n",
       "  </tbody>\n",
       "</table>\n",
       "</div>"
      ],
      "text/plain": [
       "   grupo  conversao\n",
       "5      A      False\n",
       "7      B      False\n",
       "9      A      False\n",
       "10     A      False\n",
       "11     A      False"
      ]
     },
     "execution_count": 34,
     "metadata": {},
     "output_type": "execute_result"
    }
   ],
   "source": [
    "# Visualiza\n",
    "df_ab_data.head()"
   ]
  },
  {
   "cell_type": "code",
   "execution_count": 35,
   "metadata": {},
   "outputs": [],
   "source": [
    "# Tabela pivot para o sumário dos dados\n",
    "df_ab_sumario = df_ab_data.pivot_table(values = 'conversao', index = 'grupo', aggfunc = np.sum)"
   ]
  },
  {
   "cell_type": "code",
   "execution_count": 36,
   "metadata": {},
   "outputs": [
    {
     "data": {
      "text/html": [
       "<div>\n",
       "<style scoped>\n",
       "    .dataframe tbody tr th:only-of-type {\n",
       "        vertical-align: middle;\n",
       "    }\n",
       "\n",
       "    .dataframe tbody tr th {\n",
       "        vertical-align: top;\n",
       "    }\n",
       "\n",
       "    .dataframe thead th {\n",
       "        text-align: right;\n",
       "    }\n",
       "</style>\n",
       "<table border=\"1\" class=\"dataframe\">\n",
       "  <thead>\n",
       "    <tr style=\"text-align: right;\">\n",
       "      <th></th>\n",
       "      <th>conversao</th>\n",
       "    </tr>\n",
       "    <tr>\n",
       "      <th>grupo</th>\n",
       "      <th></th>\n",
       "    </tr>\n",
       "  </thead>\n",
       "  <tbody>\n",
       "    <tr>\n",
       "      <th>A</th>\n",
       "      <td>587</td>\n",
       "    </tr>\n",
       "    <tr>\n",
       "      <th>B</th>\n",
       "      <td>981</td>\n",
       "    </tr>\n",
       "  </tbody>\n",
       "</table>\n",
       "</div>"
      ],
      "text/plain": [
       "       conversao\n",
       "grupo           \n",
       "A            587\n",
       "B            981"
      ]
     },
     "execution_count": 36,
     "metadata": {},
     "output_type": "execute_result"
    }
   ],
   "source": [
    "# Visualiza os dados\n",
    "df_ab_sumario.head()"
   ]
  },
  {
   "cell_type": "code",
   "execution_count": 37,
   "metadata": {},
   "outputs": [],
   "source": [
    "# Sumário com total \n",
    "df_ab_sumario['total'] = df_ab_data.pivot_table(values = 'conversao', index = 'grupo', aggfunc = lambda x: len(x))"
   ]
  },
  {
   "cell_type": "code",
   "execution_count": 38,
   "metadata": {},
   "outputs": [],
   "source": [
    "# Sumário com taxa\n",
    "df_ab_sumario['taxa'] = df_ab_data.pivot_table(values = 'conversao', index = 'grupo')"
   ]
  },
  {
   "cell_type": "code",
   "execution_count": 39,
   "metadata": {},
   "outputs": [
    {
     "data": {
      "text/html": [
       "<div>\n",
       "<style scoped>\n",
       "    .dataframe tbody tr th:only-of-type {\n",
       "        vertical-align: middle;\n",
       "    }\n",
       "\n",
       "    .dataframe tbody tr th {\n",
       "        vertical-align: top;\n",
       "    }\n",
       "\n",
       "    .dataframe thead th {\n",
       "        text-align: right;\n",
       "    }\n",
       "</style>\n",
       "<table border=\"1\" class=\"dataframe\">\n",
       "  <thead>\n",
       "    <tr style=\"text-align: right;\">\n",
       "      <th></th>\n",
       "      <th>conversao</th>\n",
       "      <th>total</th>\n",
       "      <th>taxa</th>\n",
       "    </tr>\n",
       "    <tr>\n",
       "      <th>grupo</th>\n",
       "      <th></th>\n",
       "      <th></th>\n",
       "      <th></th>\n",
       "    </tr>\n",
       "  </thead>\n",
       "  <tbody>\n",
       "    <tr>\n",
       "      <th>A</th>\n",
       "      <td>587</td>\n",
       "      <td>3821</td>\n",
       "      <td>0.153625</td>\n",
       "    </tr>\n",
       "    <tr>\n",
       "      <th>B</th>\n",
       "      <td>981</td>\n",
       "      <td>5000</td>\n",
       "      <td>0.196200</td>\n",
       "    </tr>\n",
       "  </tbody>\n",
       "</table>\n",
       "</div>"
      ],
      "text/plain": [
       "       conversao  total      taxa\n",
       "grupo                            \n",
       "A            587   3821  0.153625\n",
       "B            981   5000  0.196200"
      ]
     },
     "execution_count": 39,
     "metadata": {},
     "output_type": "execute_result"
    }
   ],
   "source": [
    "# Visualiza os dados\n",
    "df_ab_sumario.head()"
   ]
  },
  {
   "cell_type": "code",
   "execution_count": 40,
   "metadata": {},
   "outputs": [],
   "source": [
    "# Obtemos os valores da variante A\n",
    "conversao_A = df_ab_sumario['conversao'][0]\n",
    "total_A = df_ab_sumario['total'][0]\n",
    "taxa_A = df_ab_sumario['taxa'][0]"
   ]
  },
  {
   "cell_type": "code",
   "execution_count": 41,
   "metadata": {},
   "outputs": [
    {
     "name": "stdout",
     "output_type": "stream",
     "text": [
      "587\n",
      "3821\n",
      "0.15362470557445695\n"
     ]
    }
   ],
   "source": [
    "# Imprime os valores de A\n",
    "print(conversao_A)\n",
    "print(total_A)\n",
    "print(taxa_A)"
   ]
  },
  {
   "cell_type": "code",
   "execution_count": 42,
   "metadata": {},
   "outputs": [],
   "source": [
    "# Obtemos os valores da variante B\n",
    "conversao_B = df_ab_sumario['conversao'][1]\n",
    "total_B = df_ab_sumario['total'][1]\n",
    "taxa_B = df_ab_sumario['taxa'][1]"
   ]
  },
  {
   "cell_type": "code",
   "execution_count": 43,
   "metadata": {},
   "outputs": [
    {
     "name": "stdout",
     "output_type": "stream",
     "text": [
      "981\n",
      "5000\n",
      "0.1962\n"
     ]
    }
   ],
   "source": [
    "# Imprime os valores de B\n",
    "print(conversao_B)\n",
    "print(total_B)\n",
    "print(taxa_B)"
   ]
  },
  {
   "cell_type": "markdown",
   "metadata": {},
   "source": [
    "Taxa de conversão da linha de base (Baseline conversion rate).\n",
    "\n",
    "Igual a $p$ no contexto de uma distribuição binomial e $p$ é a probabilidade de sucesso."
   ]
  },
  {
   "cell_type": "code",
   "execution_count": 44,
   "metadata": {},
   "outputs": [
    {
     "data": {
      "text/plain": [
       "0.15362470557445695"
      ]
     },
     "execution_count": 44,
     "metadata": {},
     "output_type": "execute_result"
    }
   ],
   "source": [
    "# Taxa de conversão da linha de base.\n",
    "conversao_base = taxa_A\n",
    "conversao_base"
   ]
  },
  {
   "cell_type": "markdown",
   "metadata": {},
   "source": [
    "Efeito mínimo detectável (Minimum Detectable Effect).\n",
    "\n",
    "Às vezes referido como nível de significância prática."
   ]
  },
  {
   "cell_type": "code",
   "execution_count": 45,
   "metadata": {},
   "outputs": [
    {
     "data": {
      "text/plain": [
       "0.04257529442554306"
      ]
     },
     "execution_count": 45,
     "metadata": {},
     "output_type": "execute_result"
    }
   ],
   "source": [
    "# Efeito mínimo detectável\n",
    "efeito_minimo = taxa_B - taxa_A\n",
    "efeito_minimo"
   ]
  },
  {
   "cell_type": "markdown",
   "metadata": {},
   "source": [
    "## Tarefa 2 - Execução do Teste de Hipóteses\n",
    "\n",
    "Executamos o teste de hipóteses e registramos a taxa de sucesso de cada grupo."
   ]
  },
  {
   "cell_type": "markdown",
   "metadata": {},
   "source": [
    "Poder estatístico ou sensibilidade.\n",
    "\n",
    "Igual a 1 - $\\beta$. \n",
    "\n",
    "Normalmente 80% é usado para a maioria das análises. É a probabilidade de rejeitar a hipótese nula quando a hipótese nula é de fato falsa.\n",
    "\n",
    "Parâmetros que usaremos para executar o teste:\n",
    "\n",
    "1- Alfa (Nível de significância) $\\alpha$: normalmente 5%; probabilidade de rejeitar a hipótese nula quando a hipótese nula for verdadeira\n",
    "\n",
    "2- Beta $\\beta$: probabilidade de aceitar a hipótese nula quando a hipótese nula é realmente falsa."
   ]
  },
  {
   "cell_type": "code",
   "execution_count": 46,
   "metadata": {},
   "outputs": [],
   "source": [
    "# Parâmetros que usaremos para executar o teste\n",
    "alfa = 0.05\n",
    "beta = 0.2"
   ]
  },
  {
   "cell_type": "code",
   "execution_count": 47,
   "metadata": {},
   "outputs": [],
   "source": [
    "# Tamanho da amostra\n",
    "n = 50000"
   ]
  },
  {
   "cell_type": "markdown",
   "metadata": {},
   "source": [
    "Podemos supor que a distribuição de nosso grupo de controle é binomial porque os dados são uma série de tentativas de Bernoulli, em que cada tentativa tem apenas dois resultados possíveis (semelhante a um cara ou coroa).\n",
    " \n",
    " Para o teste usaremos a função binom() do SciPy:\n",
    "\n",
    "https://docs.scipy.org/doc/scipy/reference/generated/scipy.stats.binom.html"
   ]
  },
  {
   "cell_type": "code",
   "execution_count": 48,
   "metadata": {},
   "outputs": [],
   "source": [
    "# Teste Binomial (usando padrão de 5% para o nível de significância)\n",
    "teste_binom = scs.binom(n, p = conversao_base)"
   ]
  },
  {
   "cell_type": "code",
   "execution_count": 49,
   "metadata": {},
   "outputs": [
    {
     "name": "stdout",
     "output_type": "stream",
     "text": [
      "Help on rv_frozen in module scipy.stats._distn_infrastructure object:\n",
      "\n",
      "class rv_frozen(builtins.object)\n",
      " |  rv_frozen(dist, *args, **kwds)\n",
      " |  \n",
      " |  # Frozen RV class\n",
      " |  \n",
      " |  Methods defined here:\n",
      " |  \n",
      " |  __init__(self, dist, *args, **kwds)\n",
      " |      Initialize self.  See help(type(self)) for accurate signature.\n",
      " |  \n",
      " |  cdf(self, x)\n",
      " |  \n",
      " |  entropy(self)\n",
      " |  \n",
      " |  expect(self, func=None, lb=None, ub=None, conditional=False, **kwds)\n",
      " |  \n",
      " |  interval(self, alpha)\n",
      " |  \n",
      " |  isf(self, q)\n",
      " |  \n",
      " |  logcdf(self, x)\n",
      " |  \n",
      " |  logpdf(self, x)\n",
      " |  \n",
      " |  logpmf(self, k)\n",
      " |  \n",
      " |  logsf(self, x)\n",
      " |  \n",
      " |  mean(self)\n",
      " |  \n",
      " |  median(self)\n",
      " |  \n",
      " |  moment(self, n)\n",
      " |  \n",
      " |  pdf(self, x)\n",
      " |  \n",
      " |  pmf(self, k)\n",
      " |  \n",
      " |  ppf(self, q)\n",
      " |  \n",
      " |  rvs(self, size=None, random_state=None)\n",
      " |  \n",
      " |  sf(self, x)\n",
      " |  \n",
      " |  stats(self, moments='mv')\n",
      " |  \n",
      " |  std(self)\n",
      " |  \n",
      " |  support(self)\n",
      " |  \n",
      " |  var(self)\n",
      " |  \n",
      " |  ----------------------------------------------------------------------\n",
      " |  Data descriptors defined here:\n",
      " |  \n",
      " |  __dict__\n",
      " |      dictionary for instance variables (if defined)\n",
      " |  \n",
      " |  __weakref__\n",
      " |      list of weak references to the object (if defined)\n",
      " |  \n",
      " |  random_state\n",
      "\n"
     ]
    }
   ],
   "source": [
    "help(teste_binom)"
   ]
  },
  {
   "cell_type": "code",
   "execution_count": 50,
   "metadata": {},
   "outputs": [],
   "source": [
    "# Teste Binomial com o efeito mínimo (no nosso exemplo 0.04 para o nível de significância)\n",
    "teste_binom_mde = scs.binom(n, p = conversao_base + efeito_minimo)"
   ]
  },
  {
   "cell_type": "markdown",
   "metadata": {},
   "source": [
    "Agora visualizamos a probability mass function (pmf)."
   ]
  },
  {
   "cell_type": "code",
   "execution_count": 51,
   "metadata": {},
   "outputs": [
    {
     "data": {
      "text/plain": [
       "<BarContainer object of 50001 artists>"
      ]
     },
     "execution_count": 51,
     "metadata": {},
     "output_type": "execute_result"
    },
    {
     "data": {
      "image/png": "[encoded data removed]",
      "text/plain": [
       "<Figure size 720x720 with 1 Axes>"
      ]
     },
     "metadata": {
      "needs_background": "light"
     },
     "output_type": "display_data"
    }
   ],
   "source": [
    "# Plot\n",
    "\n",
    "# Área de plotagem\n",
    "fig, ax = plt.subplots(figsize = (10, 10))\n",
    "\n",
    "# Definimos diversos valores para x\n",
    "x = np.linspace(0,int(n), int(n) + 1)\n",
    "\n",
    "# Plotamos os resultados com a pmf e alfa de 0.5\n",
    "ax.bar(x, teste_binom.pmf(x), alpha = 0.5)\n",
    "ax.bar(x, teste_binom_mde.pmf(x), alpha = 0.5)"
   ]
  },
  {
   "cell_type": "markdown",
   "metadata": {},
   "source": [
    "## Tarefa 3 - Plot da Distribuição\n",
    "\n",
    "Criamos o Plot da distribuição da diferença entre as duas amostras e comparamos os resultados."
   ]
  },
  {
   "cell_type": "markdown",
   "metadata": {},
   "source": [
    "Podemos comparar os dois grupos traçando a distribuição do grupo de controle e calculando a probabilidade de obter o resultado de nosso grupo de teste."
   ]
  },
  {
   "cell_type": "code",
   "execution_count": 52,
   "metadata": {},
   "outputs": [
    {
     "data": {
      "text/plain": [
       "Text(0, 0.5, 'Probabilidade')"
      ]
     },
     "execution_count": 52,
     "metadata": {},
     "output_type": "execute_result"
    },
    {
     "data": {
      "image/png": "[encoded data removed]",
      "text/plain": [
       "<Figure size 1008x432 with 1 Axes>"
      ]
     },
     "metadata": {
      "needs_background": "light"
     },
     "output_type": "display_data"
    }
   ],
   "source": [
    "# Plot da distribuição do grupo A (controle)\n",
    "\n",
    "# Área de plotagem\n",
    "fig, ax = plt.subplots(figsize = (14,6))\n",
    "\n",
    "# Teste de A\n",
    "x = np.linspace(conversao_A - 49, conversao_A + 50, 100)\n",
    "y = scs.binom(total_A, taxa_A).pmf(x)\n",
    "\n",
    "# Cria a barra vertical\n",
    "ax.bar(x, y, alpha = 0.5)\n",
    "ax.axvline(x = taxa_B * total_A, c = 'magenta', alpha = 0.75, linestyle = '--')\n",
    "\n",
    "# Labels\n",
    "plt.xlabel('Conversão')\n",
    "plt.ylabel('Probabilidade')"
   ]
  },
  {
   "cell_type": "code",
   "execution_count": 53,
   "metadata": {},
   "outputs": [
    {
     "data": {
      "text/plain": [
       "Text(0, 0.5, 'Probabilidade')"
      ]
     },
     "execution_count": 53,
     "metadata": {},
     "output_type": "execute_result"
    },
    {
     "data": {
      "image/png": "[encoded data removed]",
      "text/plain": [
       "<Figure size 1008x432 with 1 Axes>"
      ]
     },
     "metadata": {
      "needs_background": "light"
     },
     "output_type": "display_data"
    }
   ],
   "source": [
    "# Plot da distribuição dos 2 grupos\n",
    "\n",
    "# Área de plotagem \n",
    "fig, ax = plt.subplots(figsize = (14,6))\n",
    "\n",
    "# Gráfico de A\n",
    "xA = np.linspace(conversao_A - 49, conversao_A + 50, 100)\n",
    "yA = scs.binom(total_A, taxa_A).pmf(xA)\n",
    "ax.bar(xA, yA, alpha = 0.5)\n",
    "\n",
    "# Gráfico de B\n",
    "xB = np.linspace(conversao_B - 49, conversao_B + 50, 100)\n",
    "yB = scs.binom(total_B, taxa_B).pmf(xB)\n",
    "ax.bar(xB, yB, alpha = 0.5)\n",
    "\n",
    "# Labels\n",
    "plt.xlabel('Conversão')\n",
    "plt.ylabel('Probabilidade')"
   ]
  },
  {
   "cell_type": "markdown",
   "metadata": {},
   "source": [
    "Podemos ver que o grupo de teste converteu mais usuários do que o grupo de controle. Também podemos ver que o pico dos resultados do grupo de teste é inferior ao do grupo de controle. \n",
    "\n",
    "Mas como interpretamos a diferença no pico da probabilidade? \n",
    "\n",
    "Devemos nos concentrar, em vez disso, na taxa de conversão para que tenhamos uma comparação de termos equivalentes. Para calcular isso, precisamos padronizar os dados e comparar a probabilidade de sucesso, p, para cada grupo."
   ]
  },
  {
   "cell_type": "markdown",
   "metadata": {},
   "source": [
    "Antes de continuar, leia o manual em pdf **Distribuição de Bernoulli e o Teorema Central do Limite** no Capítulo 5."
   ]
  },
  {
   "cell_type": "code",
   "execution_count": 54,
   "metadata": {},
   "outputs": [],
   "source": [
    "# Ajusta o nome das variáveis\n",
    "\n",
    "# Probabilidades (taxas de conversão)\n",
    "p_A = taxa_A\n",
    "p_B = taxa_B\n",
    "\n",
    "# Número de conversões\n",
    "N_A = 3821\n",
    "N_B = 5000"
   ]
  },
  {
   "cell_type": "code",
   "execution_count": 55,
   "metadata": {},
   "outputs": [],
   "source": [
    "# Erro padrão (standard error) para a média de ambos os grupos\n",
    "SE_A = np.sqrt(p_A * (1 - p_A)) / np.sqrt(total_A)\n",
    "SE_B = np.sqrt(p_B * (1 - p_B)) / np.sqrt(total_B)"
   ]
  },
  {
   "cell_type": "code",
   "execution_count": 56,
   "metadata": {},
   "outputs": [
    {
     "name": "stdout",
     "output_type": "stream",
     "text": [
      "0.005833423432971666\n",
      "0.0056161474339621814\n"
     ]
    }
   ],
   "source": [
    "# Print\n",
    "print(SE_A)\n",
    "print(SE_B)"
   ]
  },
  {
   "cell_type": "code",
   "execution_count": 57,
   "metadata": {},
   "outputs": [
    {
     "data": {
      "text/plain": [
       "Text(0, 0.5, 'PDF - Probability Density Function')"
      ]
     },
     "execution_count": 57,
     "metadata": {},
     "output_type": "execute_result"
    },
    {
     "data": {
      "image/png": "[encoded data removed]",
      "text/plain": [
       "<Figure size 1008x432 with 1 Axes>"
      ]
     },
     "metadata": {
      "needs_background": "light"
     },
     "output_type": "display_data"
    }
   ],
   "source": [
    "# Plot das distribuições das hipóteses nula e alternativa\n",
    "\n",
    "# Área de plotagem\n",
    "fig, ax = plt.subplots(figsize = (14,6))\n",
    "\n",
    "# Dados para a variável aleatória\n",
    "x = np.linspace(0, p_B - p_A, 100)\n",
    "\n",
    "# Distribuição de A\n",
    "yA = scs.norm(p_A, SE_A).pdf(x)\n",
    "ax.plot(xA, yA)\n",
    "ax.axvline(x = p_A, c = 'blue', alpha = 0.5, linestyle = '--')\n",
    "\n",
    "# Distribuição de B\n",
    "yB = scs.norm(p_B, SE_B).pdf(x)\n",
    "ax.plot(xB, yB)\n",
    "ax.axvline(x = p_B, c = 'red', alpha = 0.5, linestyle = '--')\n",
    "\n",
    "# Labels\n",
    "plt.xlabel('Proporção de Conversão')\n",
    "plt.ylabel('PDF - Probability Density Function')"
   ]
  },
  {
   "cell_type": "markdown",
   "metadata": {},
   "source": [
    "As linhas contínuas representam a taxa de conversão média para cada grupo. A distância entre a linha azul e a linha vermelha é igual à diferença média entre o grupo de controle e teste. "
   ]
  },
  {
   "cell_type": "markdown",
   "metadata": {},
   "source": [
    "**Variância da Soma**\n",
    "\n",
    "Lembre-se de que a hipótese nula afirma que a diferença de probabilidade entre os dois grupos é zero. Portanto, a média para essa distribuição normal será zero. A outra propriedade de que precisaremos para a distribuição normal é o desvio padrão ou a variância.\n",
    "\n",
    "Observação: a variância é o desvio padrão ao quadrado. A variância da diferença dependerá das variâncias da probabilidade para ambos os grupos.\n",
    "\n",
    "Leia o manual em pdf **Variância da Soma** para compreender uma importante propriedade da variância."
   ]
  },
  {
   "cell_type": "markdown",
   "metadata": {},
   "source": [
    "### Verificando a Hipótese Nula e a Hipótese Alternativa\n",
    "\n",
    "Vamos começar relembrando a definição da hipótese nula e da hipótese alternativa.\n",
    "\n",
    "**A hipótese nula é a posição de que a mudança no design feito para o grupo de teste resultaria em nenhuma mudança na taxa de conversão.**\n",
    "\n",
    "**A hipótese alternativa é a posição oposta de que a mudança no design do grupo de teste resultaria em uma melhoria (ou redução) na taxa de conversão.**\n",
    "\n",
    "A hipótese nula será uma distribuição normal com uma média de zero e um desvio padrão igual ao erro padrão agrupado."
   ]
  },
  {
   "cell_type": "markdown",
   "metadata": {},
   "source": [
    "A hipótese alternativa tem o mesmo desvio padrão que a hipótese nula, mas a média estará localizada na diferença na taxa de conversão, d_hat. Isso faz sentido porque podemos calcular a diferença nas taxas de conversão diretamente dos dados, mas a distribuição normal representa possíveis valores que nosso experimento poderia ter nos dado."
   ]
  },
  {
   "cell_type": "markdown",
   "metadata": {},
   "source": [
    "Fórmula para o cálculo de z:\n",
    "\n",
    "$$ z = \\frac{(\\bar{x_1}-\\bar{x_2})-D_0}{\\sqrt{\\sigma_1^{2}/n_1+\\sigma_{2}^{2}/n_2}} $$\n",
    "\n",
    "$$ z = \\frac{(\\hat{p_1}-\\hat{p_2})-0}{\\sqrt{\\hat{p}\\hat{q}(\\frac{1}{n_1}+\\frac{1}{n_2})}}$$"
   ]
  },
  {
   "cell_type": "code",
   "execution_count": 58,
   "metadata": {},
   "outputs": [],
   "source": [
    "# Calculando a probabilidade agrupada\n",
    "prob_agrupada = (p_A * N_A + p_B * N_B) / (N_A + N_B)"
   ]
  },
  {
   "cell_type": "code",
   "execution_count": 59,
   "metadata": {},
   "outputs": [
    {
     "data": {
      "text/plain": [
       "5.1827257006909795"
      ]
     },
     "execution_count": 59,
     "metadata": {},
     "output_type": "execute_result"
    }
   ],
   "source": [
    "# Calculando z\n",
    "z = (p_B - p_A) / (prob_agrupada * (1 - prob_agrupada) * (1 / N_A + 1 / N_B))**0.5\n",
    "z"
   ]
  },
  {
   "cell_type": "code",
   "execution_count": 60,
   "metadata": {},
   "outputs": [
    {
     "data": {
      "text/plain": [
       "True"
      ]
     },
     "execution_count": 60,
     "metadata": {},
     "output_type": "execute_result"
    }
   ],
   "source": [
    "# Verificamos se z é maior que 1.64 (nível de significância de 0.05)\n",
    "z > 1.64"
   ]
  },
  {
   "cell_type": "markdown",
   "metadata": {},
   "source": [
    "### Plot da Distribuição de Probabilidade\n",
    "\n",
    "Criaremos uma série de funções auxiliares para o plot das distribuições de probabilidade. Leia atentamente todos os comentários."
   ]
  },
  {
   "cell_type": "code",
   "execution_count": 61,
   "metadata": {},
   "outputs": [],
   "source": [
    "# Função que retorna a probabilidade agrupada para 2 amostras\n",
    "def prob_agrupada_func(N_A, N_B, X_A, X_B):\n",
    "    return (X_A + X_B) / (N_A + N_B)"
   ]
  },
  {
   "cell_type": "code",
   "execution_count": 62,
   "metadata": {},
   "outputs": [],
   "source": [
    "# Função que retorna o erro padrão agrupado para 2 amostras\n",
    "def erro_padrao_agrupado_func(N_A, N_B, X_A, X_B):\n",
    "    p_hat = prob_agrupada_func(N_A, N_B, X_A, X_B)\n",
    "    SE = np.sqrt(p_hat * (1 - p_hat) * (1 / N_A + 1 / N_B))\n",
    "    return SE"
   ]
  },
  {
   "cell_type": "code",
   "execution_count": 63,
   "metadata": {},
   "outputs": [],
   "source": [
    "# Retorna o valor z para um determinado nível de significância\n",
    "def z_val(sig_level = 0.05, two_tailed = True):\n",
    "    \n",
    "    # Gera distribuição para o valor z\n",
    "    z_dist = scs.norm()\n",
    "    \n",
    "    # Verifica se devemos checar as duas caudas\n",
    "    if two_tailed:\n",
    "        sig_level = sig_level/2\n",
    "        area = 1 - sig_level\n",
    "    else:\n",
    "        area = 1 - sig_level\n",
    "\n",
    "    # Valor de z\n",
    "    z = z_dist.ppf(area)\n",
    "\n",
    "    return z"
   ]
  },
  {
   "cell_type": "code",
   "execution_count": 64,
   "metadata": {},
   "outputs": [],
   "source": [
    "# Calcula o intervalo de confiança\n",
    "def confidence_interval(sample_mean = 0, sample_std = 1, sample_size = 1, sig_level = 0.05):\n",
    "    \n",
    "    # Calcula o valor de z\n",
    "    z = z_val(sig_level)\n",
    "\n",
    "    # Limites à esquerda e direita\n",
    "    left = sample_mean - z * sample_std / np.sqrt(sample_size)\n",
    "    right = sample_mean + z * sample_std / np.sqrt(sample_size)\n",
    "\n",
    "    return (left, right)"
   ]
  },
  {
   "cell_type": "code",
   "execution_count": 65,
   "metadata": {},
   "outputs": [],
   "source": [
    "# Função que calcula o intervalo de confiança de duas caudas \n",
    "def plot_CI(ax, \n",
    "            mu, \n",
    "            s, \n",
    "            sig_level = 0.05, \n",
    "            color = 'grey'):\n",
    "\n",
    "    # Calcula o intervalo de confiança\n",
    "    left, right = confidence_interval(sample_mean = mu, sample_std = s, sig_level = sig_level)\n",
    "    \n",
    "    # Inclui o intervalo no gráfico\n",
    "    ax.axvline(left, c = color, linestyle = '--', alpha = 0.5)\n",
    "    ax.axvline(right, c = color, linestyle = '--', alpha = 0.5)"
   ]
  },
  {
   "cell_type": "code",
   "execution_count": 66,
   "metadata": {},
   "outputs": [],
   "source": [
    "# Função para o plot de uma distribuição normal\n",
    "def plot_norm_dist(ax, \n",
    "                   mu, \n",
    "                   std, \n",
    "                   with_CI = False, \n",
    "                   sig_level = 0.05, \n",
    "                   label = None):\n",
    "\n",
    "    # Gera valores para a variável aleatória x\n",
    "    x = np.linspace(mu - 12 * std, mu + 12 * std, 1000)\n",
    "    \n",
    "    # Cria a distribuição normal\n",
    "    y = scs.norm(mu, std).pdf(x)\n",
    "    \n",
    "    # Plot\n",
    "    ax.plot(x, y, label = label)\n",
    "\n",
    "    # Se tivermos intervalo de confiança, incluímos no plot\n",
    "    if with_CI:\n",
    "        plot_CI(ax, mu, std, sig_level = sig_level)"
   ]
  },
  {
   "cell_type": "markdown",
   "metadata": {},
   "source": [
    "Função para o plot da distribuição de hipótese nula onde, se não houver mudança real, a distribuição das diferenças entre os grupos de teste e controle será normalmente distribuída."
   ]
  },
  {
   "cell_type": "code",
   "execution_count": 67,
   "metadata": {},
   "outputs": [],
   "source": [
    "# Função para o plot da distribuição da H0\n",
    "def plot_H0(ax, stderr):\n",
    "    plot_norm_dist(ax, 0, stderr, label = \"H0 - Hipótese Nula\")\n",
    "    plot_CI(ax, mu = 0, s = stderr, sig_level = 0.05)"
   ]
  },
  {
   "cell_type": "markdown",
   "metadata": {},
   "source": [
    "Função para o plot da distribuição de hipótese alternativa onde, se houver uma mudança real, a distribuição das diferenças entre o teste e os grupos de controle será normalmente distribuída e centralizada em torno de d_hat"
   ]
  },
  {
   "cell_type": "code",
   "execution_count": 68,
   "metadata": {},
   "outputs": [],
   "source": [
    "# Função para o plot da distribuição da H1\n",
    "def plot_H1(ax, stderr, d_hat):\n",
    "    plot_norm_dist(ax, d_hat, stderr, label = \"H1 - Hipótese Alternativa\")"
   ]
  },
  {
   "cell_type": "code",
   "execution_count": 69,
   "metadata": {},
   "outputs": [],
   "source": [
    "# Função que preenche entre o limite de significância superior e a distribuição para hipótese alternativa\n",
    "def show_area(ax, d_hat, stderr, sig_level):\n",
    "\n",
    "    # Intervalo de confiança\n",
    "    left, right = confidence_interval(sample_mean = 0, sample_std = stderr, sig_level = sig_level)\n",
    "    \n",
    "    # Valores para x\n",
    "    x = np.linspace(-12 * stderr, 12 * stderr, 1000)\n",
    "    \n",
    "    # H0\n",
    "    null = ab_dist(stderr, 'controle')\n",
    "    \n",
    "    # H1\n",
    "    alternative = ab_dist(stderr, d_hat, 'teste')\n",
    "\n",
    "    # Se o tipo da área for igual a power\n",
    "    # Preenchemos entre o limite de significância superior e a distribuição para hipótese alternativa\n",
    "    ax.fill_between(x, 0, alternative.pdf(x), color = 'green', alpha = 0.25, where = (x > right))\n",
    "    ax.text(-3 * stderr, null.pdf(0), 'power = {0:.3f}'.format(1 - alternative.cdf(right)), \n",
    "                fontsize = 12, ha = 'right', color = 'k')"
   ]
  },
  {
   "cell_type": "code",
   "execution_count": 70,
   "metadata": {},
   "outputs": [],
   "source": [
    "# Função que retorna um objeto de distribuição dependendo do tipo de grupo\n",
    "def ab_dist(stderr, d_hat = 0, group_type = 'controle'):\n",
    "\n",
    "    # Verifica o tipo de grupo\n",
    "    if group_type == 'controle':\n",
    "        sample_mean = 0\n",
    "    elif group_type == 'teste':\n",
    "        sample_mean = d_hat\n",
    "\n",
    "    # Cria uma distribuição normal que depende da média e do desvio padrão\n",
    "    dist = scs.norm(sample_mean, stderr)\n",
    "    return dist"
   ]
  },
  {
   "cell_type": "code",
   "execution_count": 71,
   "metadata": {},
   "outputs": [],
   "source": [
    "# Função que retorna o valor p\n",
    "def p_val(N_A, N_B, p_A, p_B):\n",
    "    return scs.binom(N_A, p_A).pmf(p_B * N_B)"
   ]
  },
  {
   "cell_type": "code",
   "execution_count": 72,
   "metadata": {},
   "outputs": [],
   "source": [
    "# Função para o plot da análise do Teste A/B\n",
    "def abplot_func(N_A, \n",
    "                N_B, \n",
    "                bcr, \n",
    "                d_hat, \n",
    "                sig_level = 0.05, \n",
    "                show_p_value = False,\n",
    "                show_legend = True):\n",
    "   \n",
    "    # Define a área de plotagem\n",
    "    fig, ax = plt.subplots(figsize = (14, 8))\n",
    "\n",
    "    # Define parâmetros para encontrar o erro padrão agrupado\n",
    "    X_A = bcr * N_A\n",
    "    X_B = (bcr + d_hat) * N_B\n",
    "    stderr = erro_padrao_agrupado_func(N_A, N_B, X_A, X_B)\n",
    "\n",
    "    # Plot da distribuição da hipótese nula e alternativa\n",
    "    plot_H0(ax, stderr)\n",
    "    plot_H1(ax, stderr, d_hat)\n",
    "\n",
    "    # Definir a extensão da área do plot\n",
    "    ax.set_xlim(-8 * stderr, 8 * stderr)\n",
    "\n",
    "    # Ajustamos o gráfico e preenchemos a área interior\n",
    "    show_area(ax, d_hat, stderr, sig_level)\n",
    "\n",
    "    # Mostramos valores-p com base nas distribuições para os dois grupos\n",
    "    if show_p_value:\n",
    "        null = ab_dist(stderr, 'controle')\n",
    "        p_value = p_val(N_A, N_B, bcr, bcr + d_hat)\n",
    "        ax.text(3 * stderr, null.pdf(0), 'Valor-p = {0:.4f}'.format(p_value), fontsize = 14, ha = 'left')\n",
    "\n",
    "    # Mostra a legenda\n",
    "    if show_legend:\n",
    "        plt.legend()\n",
    "\n",
    "    plt.xlabel('d')\n",
    "    plt.ylabel('PDF')\n",
    "    plt.show()"
   ]
  },
  {
   "cell_type": "markdown",
   "metadata": {},
   "source": [
    "Agora que entendemos a derivação do erro padrão combinado, podemos apenas plotar diretamente as hipóteses nula e alternativa para experimentos futuros. Tudo que precisamos é executar a célula abaixo."
   ]
  },
  {
   "cell_type": "code",
   "execution_count": 73,
   "metadata": {},
   "outputs": [
    {
     "data": {
      "image/png": "[encoded data removed]",
      "text/plain": [
       "<Figure size 1008x576 with 1 Axes>"
      ]
     },
     "metadata": {
      "needs_background": "light"
     },
     "output_type": "display_data"
    }
   ],
   "source": [
    "# Definimos os parâmetros e executamos a função\n",
    "n = N_A + N_B\n",
    "conversao_base = p_A  \n",
    "d_hat = p_B - p_A\n",
    "abplot_func(N_A, N_B, conversao_base, d_hat, show_p_value = True)"
   ]
  },
  {
   "cell_type": "markdown",
   "metadata": {},
   "source": [
    "Visualmente, o gráfico para as hipóteses nula e alternativa é muito semelhante aos outros gráficos acima. Felizmente, as duas curvas têm formato idêntico, portanto, podemos apenas comparar a distância entre as médias das duas distribuições. Podemos ver que a curva de hipótese alternativa sugere que o grupo de teste tem uma taxa de conversão maior do que o grupo de controle. Este gráfico também pode ser usado para determinar diretamente o poder estatístico."
   ]
  },
  {
   "cell_type": "markdown",
   "metadata": {},
   "source": [
    "## Tarefa 4 - Calculando o Poder Estatístico\n",
    "\n",
    "Poder Estatístico e Nível de Significância"
   ]
  },
  {
   "cell_type": "markdown",
   "metadata": {},
   "source": [
    "É mais fácil definir o poder estatístico e o nível de significância mostrando primeiro como eles são representados no gráfico da hipótese nula e alternativa. Podemos retornar uma visualização do poder estatístico adicionando o parâmetro show_power = True"
   ]
  },
  {
   "cell_type": "code",
   "execution_count": 74,
   "metadata": {
    "scrolled": false
   },
   "outputs": [
    {
     "data": {
      "image/png": "[encoded data removed]",
      "text/plain": [
       "<Figure size 1008x576 with 1 Axes>"
      ]
     },
     "metadata": {
      "needs_background": "light"
     },
     "output_type": "display_data"
    }
   ],
   "source": [
    "# Executa a função\n",
    "abplot_func(N_A, N_B, conversao_base, d_hat, show_p_value = True)"
   ]
  },
  {
   "cell_type": "markdown",
   "metadata": {},
   "source": [
    "A área sombreada em verde representa o poder estatístico e o valor calculado para o poder também é exibido no gráfico. As linhas tracejadas em cinza no gráfico acima representam o intervalo de confiança (95% para o gráfico acima) para a hipótese nula. O poder estatístico é calculado encontrando a área sob a distribuição de hipótese alternativa e fora do intervalo de confiança da hipótese nula.\n",
    "\n",
    "Depois de executar nosso experimento, obtemos uma taxa de conversão resultante para ambos os grupos. Se calcularmos a diferença entre as taxas de conversão, acabamos com um resultado, a diferença ou o efeito da mudança de design da página web, não mostrando as avaliações de usuários. Nossa tarefa é determinar de qual população esse resultado veio, a hipótese nula ou a hipótese alternativa.\n",
    "\n",
    "A área sob a curva da hipótese alternativa é igual a 1. Se o design alternativo (sem avaliações) for realmente melhor, o poder é a probabilidade de aceitarmos a hipótese alternativa e rejeitarmos a hipótese nula e é igual à área sombreada em verde (verdadeiro positivo). A área oposta sob a curva alternativa é a probabilidade de não rejeitarmos a hipótese nula e rejeitarmos a hipótese alternativa (falso negativo). Isso é conhecido como beta no teste A/B ou teste de hipótese e é mostrado abaixo."
   ]
  },
  {
   "cell_type": "markdown",
   "metadata": {},
   "source": [
    "Se a hipótese nula for verdadeira e realmente não houver diferença entre os grupos de controle e teste, o nível de significância é a probabilidade de rejeitarmos a hipótese nula e aceitarmos a hipótese alternativa (falso positivo). Um falso positivo é quando concluímos erroneamente que o novo design é melhor. Este valor é baixo porque queremos limitar essa probabilidade.\n",
    "\n",
    "Muitas vezes, um problema será fornecido com um nível de confiança desejado em vez do nível de significância. Um nível de confiança típico de 95% para um teste A / B corresponde a um nível de significância de 0,05."
   ]
  },
  {
   "cell_type": "markdown",
   "metadata": {},
   "source": [
    "Os experimentos são normalmente configurados para uma potência mínima desejada de 80%. Se nosso novo design for realmente melhor, queremos que nosso experimento mostre que há pelo menos 80% de probabilidade de que esse seja o caso. Sabemos que, se aumentarmos o tamanho da amostra para cada grupo, diminuiremos a variância combinada para nossa hipótese nula e alternativa. Isso tornará nossas distribuições muito mais estreitas e pode aumentar o poder estatístico. Vamos dar uma olhada em como o tamanho da amostra afetará diretamente nossos resultados."
   ]
  },
  {
   "cell_type": "markdown",
   "metadata": {},
   "source": [
    "## Tarefa 5 - Influência do Tamanho da Amostra no Teste A/B"
   ]
  },
  {
   "cell_type": "markdown",
   "metadata": {},
   "source": [
    "Nossas curvas para a hipótese nula e alternativa tornaram-se mais estreitas e mais da área sob a curva alternativa está localizada à direita da linha tracejada cinza. O resultado para potência é maior que 0,80 e atende a nossa referência de potência estatística. Agora podemos dizer que nossos resultados são estatisticamente significativos.\n",
    "\n",
    "O próximo problema que devemos encontrar é determinar o tamanho mínimo da amostra de que precisaremos para o experimento. E isso é útil saber porque está diretamente relacionado à rapidez com que podemos concluir os experimentos e fornecer resultados estatisticamente significativos para a área de negócio."
   ]
  },
  {
   "cell_type": "code",
   "execution_count": 75,
   "metadata": {},
   "outputs": [
    {
     "data": {
      "image/png": "[encoded data removed]",
      "text/plain": [
       "<Figure size 1008x576 with 1 Axes>"
      ]
     },
     "metadata": {
      "needs_background": "light"
     },
     "output_type": "display_data"
    }
   ],
   "source": [
    "# Executa a função\n",
    "abplot_func(2000, 2000, conversao_base, d_hat)"
   ]
  },
  {
   "cell_type": "markdown",
   "metadata": {},
   "source": [
    "Temos a taxa de conversão de linha de base e o efeito mínimo detectável, que é a diferença mínima entre o controle e o grupo de teste que a equipe de negócio determinará para valer a pena o investimento de fazer a mudança de design em primeiro lugar."
   ]
  },
  {
   "cell_type": "code",
   "execution_count": 76,
   "metadata": {},
   "outputs": [],
   "source": [
    "# Função para incluir o valor z no plot\n",
    "def zplot(area = 0.95, two_tailed = True, align_right = False):\n",
    "\n",
    "    # Cria a área de plotagem\n",
    "    fig = plt.figure(figsize = (12, 6))\n",
    "    ax = fig.subplots()\n",
    "    \n",
    "    # Cria a distribuição normal\n",
    "    norm = scs.norm()\n",
    "    \n",
    "    # Cria os pontos de dados para o plot\n",
    "    x = np.linspace(-5, 5, 1000)\n",
    "    y = norm.pdf(x)\n",
    "\n",
    "    ax.plot(x, y)\n",
    "\n",
    "    # Código para preencher áreas para testes bidirecionais\n",
    "    if two_tailed:\n",
    "        left = norm.ppf(0.5 - area / 2)\n",
    "        right = norm.ppf(0.5 + area / 2)\n",
    "        ax.vlines(right, 0, norm.pdf(right), color = 'grey', linestyle = '--')\n",
    "        ax.vlines(left, 0, norm.pdf(left), color = 'grey', linestyle = '--')\n",
    "\n",
    "        ax.fill_between(x, 0, y, color = 'grey', alpha = 0.25, where = (x > left) & (x < right))\n",
    "        \n",
    "        plt.xlabel('z')\n",
    "        plt.ylabel('PDF')\n",
    "        plt.text(left, norm.pdf(left), \"z = {0:.3f}\".format(left), \n",
    "                 fontsize = 12, \n",
    "                 rotation = 90, \n",
    "                 va = \"bottom\", \n",
    "                 ha = \"right\")\n",
    "        plt.text(right, norm.pdf(right), \"z = {0:.3f}\".format(right), \n",
    "                 fontsize = 12, \n",
    "                 rotation = 90, \n",
    "                 va = \"bottom\", \n",
    "                 ha = \"left\")\n",
    "    \n",
    "    # Para testes de uma cauda\n",
    "    else:\n",
    "        # Alinhamento à direita\n",
    "        if align_right:\n",
    "            left = norm.ppf(1-area)\n",
    "            ax.vlines(left, 0, norm.pdf(left), color = 'grey', linestyle = '--')\n",
    "            ax.fill_between(x, 0, y, color = 'grey', alpha = 0.25, where = x > left)\n",
    "            plt.text(left, norm.pdf(left), \"z = {0:.3f}\".format(left), \n",
    "                     fontsize = 12, \n",
    "                     rotation = 90, \n",
    "                     va = \"bottom\", \n",
    "                     ha = \"right\")\n",
    "        \n",
    "        # Alinhamento à esquerda\n",
    "        else:\n",
    "            right = norm.ppf(area)\n",
    "            ax.vlines(right, 0, norm.pdf(right), color = 'grey', linestyle = '--')\n",
    "            ax.fill_between(x, 0, y, color = 'grey', alpha = 0.25, where = x < right)\n",
    "            plt.text(right, norm.pdf(right), \"z = {0:.3f}\".format(right), \n",
    "                     fontsize = 12, \n",
    "                     rotation = 90, \n",
    "                     va = \"bottom\", \n",
    "                     ha = \"left\")\n",
    "\n",
    "    # Incluímos texto no plot\n",
    "    plt.text(0, 0.1, \"Área Sombreada = {0:.3f}\".format(area), fontsize = 12, ha = 'center')\n",
    "    \n",
    "    # Labels\n",
    "    plt.xlabel('z')\n",
    "    plt.ylabel('PDF')\n",
    "\n",
    "    plt.show()"
   ]
  },
  {
   "cell_type": "code",
   "execution_count": 77,
   "metadata": {},
   "outputs": [
    {
     "name": "stdout",
     "output_type": "stream",
     "text": [
      "5.1827257006909795\n",
      "1.6448536269514722\n",
      "True\n"
     ]
    }
   ],
   "source": [
    "# Print do valor z\n",
    "print(z)\n",
    "print(z_val(sig_level = 0.05, two_tailed = False))\n",
    "print(z > z_val(sig_level = 0.05, two_tailed = False))"
   ]
  },
  {
   "cell_type": "code",
   "execution_count": 78,
   "metadata": {},
   "outputs": [
    {
     "data": {
      "image/png": "[encoded data removed]",
      "text/plain": [
       "<Figure size 864x432 with 1 Axes>"
      ]
     },
     "metadata": {
      "needs_background": "light"
     },
     "output_type": "display_data"
    }
   ],
   "source": [
    "# Plot de z\n",
    "zplot(area = 0.95, two_tailed = False, align_right = False)"
   ]
  },
  {
   "cell_type": "markdown",
   "metadata": {},
   "source": [
    "Aqui está o código Python que executa o mesmo cálculo para o tamanho mínimo da amostra:"
   ]
  },
  {
   "cell_type": "markdown",
   "metadata": {},
   "source": [
    "$$ n_A = k*n_B $$\n",
    "\n",
    "$$ n_B = (\\frac{p_A(1-p_A)}{k}+p_B(1-p_B)) (\\frac{Z_{1-\\alpha} + Z_{1-\\beta}}{p_A-p_B})^{2}$$\n",
    "\n",
    "$$ n = \\frac{2(\\bar{p})(1-\\bar{p})(Z_{1-\\beta}+Z_{1-\\alpha})^2}{(p_B-p_A)^2}$$"
   ]
  },
  {
   "cell_type": "code",
   "execution_count": 79,
   "metadata": {},
   "outputs": [
    {
     "name": "stdout",
     "output_type": "stream",
     "text": [
      "0.8416212335729143\n",
      "1.6448536269514722\n"
     ]
    }
   ],
   "source": [
    "# Calculamos os valores de z alfa e beta\n",
    "sig_level = 0.05\n",
    "beta = 0.2\n",
    "k = N_A/N_B\n",
    "standard_norm = scs.norm(0, 1)\n",
    "Z_beta = standard_norm.ppf(1-beta)\n",
    "Z_alpha = standard_norm.ppf(1-sig_level)\n",
    "print(Z_beta)\n",
    "print(Z_alpha)"
   ]
  },
  {
   "cell_type": "markdown",
   "metadata": {},
   "source": [
    "Vamos calcular o tamanho mínimo necessário para a amostra."
   ]
  },
  {
   "cell_type": "code",
   "execution_count": 80,
   "metadata": {},
   "outputs": [],
   "source": [
    "# Função para encontrar o tamanho mínimo da amostra\n",
    "def calcula_tamanho_min_amostra(N_A, \n",
    "                                N_B, \n",
    "                                p_A, \n",
    "                                p_B, \n",
    "                                power = 0.8, \n",
    "                                sig_level = 0.05, \n",
    "                                two_sided = False):\n",
    "   \n",
    "    k = N_A/N_B\n",
    "    \n",
    "    # Distribuição normal para determinar os valores z\n",
    "    standard_norm = scs.norm(0, 1)\n",
    "\n",
    "    # Encontramos o valor de z para o poder estatístico\n",
    "    Z_beta = standard_norm.ppf(power)\n",
    "    \n",
    "    # Encontramos z alfa\n",
    "    if two_sided == True:\n",
    "        Z_alpha = standard_norm.ppf(1-sig_level/2)\n",
    "    else:\n",
    "        Z_alpha = standard_norm.ppf(1-sig_level)\n",
    "\n",
    "    # Probabilidade agrupada\n",
    "    pooled_prob = (p_A + p_B) / 2\n",
    "\n",
    "    # Tamanho mínimo da amostra\n",
    "    min_N = (2 * pooled_prob * (1 - pooled_prob) * (Z_beta + Z_alpha)**2 / efeito_minimo**2)    \n",
    "\n",
    "    return min_N"
   ]
  },
  {
   "cell_type": "code",
   "execution_count": 81,
   "metadata": {},
   "outputs": [
    {
     "data": {
      "text/plain": [
       "1249.8068972849476"
      ]
     },
     "execution_count": 81,
     "metadata": {},
     "output_type": "execute_result"
    }
   ],
   "source": [
    "# Calculamos o tamanho mínimo da amostra com two_sided = True\n",
    "calcula_tamanho_min_amostra(N_A, N_B, p_A, p_B, power = 0.8, sig_level = 0.05, two_sided = True)"
   ]
  },
  {
   "cell_type": "code",
   "execution_count": 82,
   "metadata": {},
   "outputs": [
    {
     "data": {
      "text/plain": [
       "984.4720435225323"
      ]
     },
     "execution_count": 82,
     "metadata": {},
     "output_type": "execute_result"
    }
   ],
   "source": [
    "# Calculamos o tamanho mínimo da amostra com two_sided = False\n",
    "calcula_tamanho_min_amostra(N_A, N_B, p_A, p_B, power = 0.8, sig_level = 0.05, two_sided = False)"
   ]
  },
  {
   "cell_type": "markdown",
   "metadata": {},
   "source": [
    "Agora vamos calcular o tamanho mínimo da amostra considerando nosso baseline."
   ]
  },
  {
   "cell_type": "code",
   "execution_count": 83,
   "metadata": {},
   "outputs": [
    {
     "data": {
      "text/plain": [
       "0.1962"
      ]
     },
     "execution_count": 83,
     "metadata": {},
     "output_type": "execute_result"
    }
   ],
   "source": [
    "conversao_base + efeito_minimo"
   ]
  },
  {
   "cell_type": "code",
   "execution_count": 84,
   "metadata": {},
   "outputs": [
    {
     "data": {
      "text/plain": [
       "0.1749123527872285"
      ]
     },
     "execution_count": 84,
     "metadata": {},
     "output_type": "execute_result"
    }
   ],
   "source": [
    "# Calcula a probabilidade agrupada\n",
    "probabilidade_agrupada = (conversao_base + conversao_base + efeito_minimo) / 2\n",
    "probabilidade_agrupada"
   ]
  },
  {
   "cell_type": "code",
   "execution_count": 85,
   "metadata": {},
   "outputs": [
    {
     "data": {
      "text/plain": [
       "2.4864748605243863"
      ]
     },
     "execution_count": 85,
     "metadata": {},
     "output_type": "execute_result"
    }
   ],
   "source": [
    "# Soma de z alfa e beta\n",
    "Z_beta + Z_alpha"
   ]
  },
  {
   "cell_type": "code",
   "execution_count": 86,
   "metadata": {},
   "outputs": [
    {
     "data": {
      "text/plain": [
       "984.4720435225323"
      ]
     },
     "execution_count": 86,
     "metadata": {},
     "output_type": "execute_result"
    }
   ],
   "source": [
    "# Tamanho mínimo da amostra para o baseline\n",
    "min_N = (2 * probabilidade_agrupada * (1 - probabilidade_agrupada) * (Z_beta + Z_alpha)**2 / efeito_minimo**2)\n",
    "min_N"
   ]
  },
  {
   "cell_type": "markdown",
   "metadata": {},
   "source": [
    "Poder estatístico para o baseline."
   ]
  },
  {
   "cell_type": "code",
   "execution_count": 87,
   "metadata": {
    "scrolled": false
   },
   "outputs": [
    {
     "data": {
      "image/png": "[encoded data removed]",
      "text/plain": [
       "<Figure size 1008x576 with 1 Axes>"
      ]
     },
     "metadata": {
      "needs_background": "light"
     },
     "output_type": "display_data"
    }
   ],
   "source": [
    "# Executa a função para 984 amostras\n",
    "abplot_func(N_A = 984, \n",
    "            N_B = 984, \n",
    "            bcr = p_A, \n",
    "            d_hat = p_B - p_A, \n",
    "            sig_level = 0.05, \n",
    "            show_p_value = False, \n",
    "            show_legend = True)"
   ]
  },
  {
   "cell_type": "markdown",
   "metadata": {},
   "source": [
    "Poder estatístico para o tamanho de amostra calculado."
   ]
  },
  {
   "cell_type": "code",
   "execution_count": 88,
   "metadata": {},
   "outputs": [
    {
     "data": {
      "image/png": "[encoded data removed]",
      "text/plain": [
       "<Figure size 1008x576 with 1 Axes>"
      ]
     },
     "metadata": {
      "needs_background": "light"
     },
     "output_type": "display_data"
    }
   ],
   "source": [
    "# Executa a função para 1249 amostras\n",
    "abplot_func(N_A = 1249, \n",
    "            N_B = 1249, \n",
    "            bcr = p_A, \n",
    "            d_hat = p_B - p_A, \n",
    "            sig_level = 0.05, \n",
    "            show_p_value = False, \n",
    "            show_legend = True)"
   ]
  },
  {
   "cell_type": "markdown",
   "metadata": {},
   "source": [
    "## Conclusão e Considerações Finais"
   ]
  },
  {
   "cell_type": "markdown",
   "metadata": {},
   "source": [
    "O poder calculado para este tamanho de amostra foi de aproximadamente 0,80. Portanto, para afirmar que a mudança na página removendo as avaliações de usuários realmente aumentou a taxa de conversão precisamos de pelos menos 1249 amostras."
   ]
  },
  {
   "cell_type": "markdown",
   "metadata": {},
   "source": [
    "Este mini-projeto foi um passo a passo muito longo, mas básico, dos Testes A/B. Depois de desenvolver uma compreensão e familiaridade com o procedimento, você provavelmente será capaz de executar um experimento e ir diretamente para os gráficos das hipóteses nula e alternativa para determinar se seus resultados alcançaram poder suficiente. Ao calcular o tamanho mínimo da amostra de que você precisa antes do experimento, você pode determinar quanto tempo levará para obter os resultados para que a área de negócio possa tomar uma decisão final.\n",
    "\n",
    "O segredo do Teste A/B não está na execução do teste de hipótese em si, mas em conseguir obter o poder estatístico necessário para afirmar que as mudanças tiveram ou não efeito na taxa de conversão.\n",
    "\n",
    "Para o nosso exemplo, com 1249 amostras podemos afirmar que sim, remover as avaliações de usuários da página aumenta a taxa de conversão."
   ]
  },
  {
   "cell_type": "markdown",
   "metadata": {},
   "source": [
    "# Fim"
   ]
  }
 ],
 "metadata": {
  "kernelspec": {
   "display_name": "Python 3",
   "language": "python",
   "name": "python3"
  },
  "language_info": {
   "codemirror_mode": {
    "name": "ipython",
    "version": 3
   },
   "file_extension": ".py",
   "mimetype": "text/x-python",
   "name": "python",
   "nbconvert_exporter": "python",
   "pygments_lexer": "ipython3",
   "version": "3.8.3"
  }
 },
 "nbformat": 4,
 "nbformat_minor": 2
}
